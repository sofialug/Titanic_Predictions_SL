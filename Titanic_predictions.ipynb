{
 "cells": [
  {
   "cell_type": "code",
   "execution_count": 20,
   "id": "0e121552",
   "metadata": {},
   "outputs": [],
   "source": [
    "#Creating a model for predictinf if a passenger will survive on titanic"
   ]
  },
  {
   "cell_type": "code",
   "execution_count": 1,
   "id": "78603aa1",
   "metadata": {},
   "outputs": [],
   "source": [
    "import os\n",
    "import numpy as np\n",
    "import pandas as pd\n",
    "\n",
    "from statsmodels.formula.api import ols\n",
    "\n",
    "import matplotlib.pyplot as plt\n",
    "from sklearn.linear_model import LogisticRegression\n",
    "from sklearn.model_selection import train_test_split\n",
    "\n",
    "import seaborn as sns\n",
    "\n",
    "%matplotlib inline"
   ]
  },
  {
   "cell_type": "code",
   "execution_count": 2,
   "id": "48595434",
   "metadata": {},
   "outputs": [],
   "source": [
    "#Dataset ready to use for predicting \n",
    "titanic_preproc = pd.read_csv(r'C:\\Users\\sofia\\Desktop\\Python\\titanic_preproc_P25.csv', \n",
    "                              index_col=0)"
   ]
  },
  {
   "cell_type": "code",
   "execution_count": 3,
   "id": "1013f931",
   "metadata": {},
   "outputs": [],
   "source": [
    "y = sns.load_dataset('titanic').survived.values"
   ]
  },
  {
   "cell_type": "code",
   "execution_count": 4,
   "id": "c47c4f7e",
   "metadata": {},
   "outputs": [],
   "source": [
    "#Deviding data into test and train\n",
    "\n",
    "X_train, X_test, y_train, y_test = train_test_split(\n",
    "    titanic_preproc.values, y, test_size=0.2, random_state=6)"
   ]
  },
  {
   "cell_type": "code",
   "execution_count": 5,
   "id": "a18322fa",
   "metadata": {},
   "outputs": [
    {
     "data": {
      "text/plain": [
       "Index(['pclass', 'age', 'sibsp', 'parch', 'fare', 'sex_male', 'alone_True',\n",
       "       'who_man', 'who_woman'],\n",
       "      dtype='object')"
      ]
     },
     "execution_count": 5,
     "metadata": {},
     "output_type": "execute_result"
    }
   ],
   "source": [
    "titanic_preproc.columns"
   ]
  },
  {
   "cell_type": "code",
   "execution_count": 6,
   "id": "db1e3b58",
   "metadata": {},
   "outputs": [],
   "source": [
    "#Use the StandardScaler and its method .fit_transform() to quickly standardize\n",
    "#each variable (column) in the training and test sets.\n",
    "from sklearn.preprocessing import StandardScaler\n",
    "\n",
    "std = StandardScaler()\n",
    "X_train_std = std.fit_transform(X_train)\n",
    "X_test_std = std.fit_transform(X_test)"
   ]
  },
  {
   "cell_type": "code",
   "execution_count": 8,
   "id": "ee809e63",
   "metadata": {
    "collapsed": true
   },
   "outputs": [
    {
     "data": {
      "text/plain": [
       "array([-1.63610168,  0.80441666,  0.80441666, -0.41584251, -1.63610168,\n",
       "        0.80441666,  0.80441666,  0.80441666,  0.80441666,  0.80441666,\n",
       "       -0.41584251,  0.80441666, -0.41584251,  0.80441666, -1.63610168,\n",
       "        0.80441666,  0.80441666,  0.80441666, -0.41584251,  0.80441666,\n",
       "        0.80441666,  0.80441666, -1.63610168, -1.63610168, -1.63610168,\n",
       "       -0.41584251,  0.80441666, -0.41584251, -0.41584251,  0.80441666,\n",
       "       -1.63610168, -0.41584251, -0.41584251,  0.80441666,  0.80441666,\n",
       "        0.80441666,  0.80441666, -0.41584251,  0.80441666,  0.80441666,\n",
       "       -1.63610168,  0.80441666,  0.80441666,  0.80441666,  0.80441666,\n",
       "        0.80441666,  0.80441666,  0.80441666, -0.41584251, -0.41584251,\n",
       "       -1.63610168,  0.80441666,  0.80441666,  0.80441666,  0.80441666,\n",
       "        0.80441666, -0.41584251,  0.80441666, -0.41584251, -1.63610168,\n",
       "        0.80441666,  0.80441666,  0.80441666,  0.80441666, -1.63610168,\n",
       "       -0.41584251, -1.63610168,  0.80441666,  0.80441666,  0.80441666,\n",
       "        0.80441666, -0.41584251,  0.80441666,  0.80441666,  0.80441666,\n",
       "        0.80441666, -0.41584251, -1.63610168, -1.63610168, -1.63610168,\n",
       "        0.80441666, -1.63610168, -0.41584251,  0.80441666,  0.80441666,\n",
       "       -1.63610168,  0.80441666,  0.80441666, -0.41584251, -0.41584251,\n",
       "       -0.41584251, -1.63610168,  0.80441666,  0.80441666,  0.80441666,\n",
       "        0.80441666, -0.41584251, -0.41584251, -1.63610168, -0.41584251,\n",
       "       -0.41584251,  0.80441666,  0.80441666, -1.63610168, -0.41584251,\n",
       "        0.80441666,  0.80441666, -1.63610168,  0.80441666, -1.63610168,\n",
       "        0.80441666,  0.80441666,  0.80441666,  0.80441666,  0.80441666,\n",
       "        0.80441666, -0.41584251,  0.80441666,  0.80441666,  0.80441666,\n",
       "        0.80441666,  0.80441666,  0.80441666,  0.80441666, -0.41584251,\n",
       "       -1.63610168, -1.63610168, -0.41584251,  0.80441666, -0.41584251,\n",
       "        0.80441666, -0.41584251, -1.63610168,  0.80441666,  0.80441666,\n",
       "        0.80441666, -1.63610168, -1.63610168,  0.80441666,  0.80441666,\n",
       "        0.80441666, -0.41584251,  0.80441666,  0.80441666, -0.41584251,\n",
       "       -0.41584251,  0.80441666,  0.80441666,  0.80441666,  0.80441666,\n",
       "       -1.63610168, -1.63610168, -1.63610168,  0.80441666, -0.41584251,\n",
       "       -1.63610168, -1.63610168,  0.80441666, -1.63610168,  0.80441666,\n",
       "       -1.63610168, -1.63610168,  0.80441666,  0.80441666,  0.80441666,\n",
       "       -1.63610168,  0.80441666, -1.63610168,  0.80441666, -0.41584251,\n",
       "       -1.63610168,  0.80441666, -1.63610168,  0.80441666,  0.80441666,\n",
       "        0.80441666, -0.41584251, -0.41584251, -1.63610168])"
      ]
     },
     "execution_count": 8,
     "metadata": {},
     "output_type": "execute_result"
    }
   ],
   "source": [
    "X_test_std[:,0]"
   ]
  },
  {
   "cell_type": "code",
   "execution_count": 9,
   "id": "e48cefd2",
   "metadata": {},
   "outputs": [
    {
     "data": {
      "text/plain": [
       "LogisticRegression()"
      ]
     },
     "execution_count": 9,
     "metadata": {},
     "output_type": "execute_result"
    }
   ],
   "source": [
    "#We adjust the logistic regression to the standardised data:\n",
    "logistic_model = LogisticRegression()\n",
    "logistic_model.fit(X_train_std, y_train)"
   ]
  },
  {
   "cell_type": "code",
   "execution_count": 10,
   "id": "be58a73c",
   "metadata": {},
   "outputs": [],
   "source": [
    "# we test for correctness on test data\n",
    "predictions = logistic_model.predict(X_test_std)"
   ]
  },
  {
   "cell_type": "code",
   "execution_count": 11,
   "id": "22fb098b",
   "metadata": {},
   "outputs": [
    {
     "data": {
      "text/plain": [
       "0.8603351955307262"
      ]
     },
     "execution_count": 11,
     "metadata": {},
     "output_type": "execute_result"
    }
   ],
   "source": [
    "(predictions == y_test).mean()"
   ]
  },
  {
   "cell_type": "code",
   "execution_count": 12,
   "id": "ec943797",
   "metadata": {},
   "outputs": [
    {
     "data": {
      "text/plain": [
       "0.8770949720670391"
      ]
     },
     "execution_count": 12,
     "metadata": {},
     "output_type": "execute_result"
    }
   ],
   "source": [
    "#In the case of the titanic data, we will not achieve a higher correctness than 81.7%\n",
    "#by logistic regression, therefore we will try a different classifier - the support vector machine (SVM).\n",
    "\n",
    "from sklearn.svm import SVC\n",
    "d= {}\n",
    "for gm in [0.001, 0.1, 0.5, 0.75, 0.9, 1, 1.5, 2, 3, 5, 10, 25]:\n",
    "    for c in [0.5,1,1.5,2,2.5, 3,5,10,25,50,100,500]:\n",
    "        svc = SVC(gamma = gm, C = c)\n",
    "        svc.fit(X_train_std, y_train) # using train data\n",
    "        d[(gm,c)] = (svc.predict(X_test_std) == y_test).mean() # using test data\n",
    "\n",
    "svc = SVC(gamma=max(d, key=d.get)[0], C = max(d, key=d.get)[1]) # best accuracy for these parameters\n",
    "svc.fit(X_train_std, y_train) # using train data\n",
    "np.mean(svc.predict(X_test_std) == y_test) # using test data"
   ]
  },
  {
   "cell_type": "code",
   "execution_count": 13,
   "id": "7e017287",
   "metadata": {},
   "outputs": [
    {
     "data": {
      "text/plain": [
       "0.1"
      ]
     },
     "execution_count": 13,
     "metadata": {},
     "output_type": "execute_result"
    }
   ],
   "source": [
    "svc.gamma"
   ]
  },
  {
   "cell_type": "code",
   "execution_count": 14,
   "id": "f28c9525",
   "metadata": {},
   "outputs": [
    {
     "data": {
      "text/plain": [
       "1.5"
      ]
     },
     "execution_count": 14,
     "metadata": {},
     "output_type": "execute_result"
    }
   ],
   "source": [
    "svc.C"
   ]
  },
  {
   "cell_type": "code",
   "execution_count": 15,
   "id": "187986d3",
   "metadata": {},
   "outputs": [
    {
     "data": {
      "text/plain": [
       "(0.8770949720670391, (0.1, 1.5))"
      ]
     },
     "execution_count": 15,
     "metadata": {},
     "output_type": "execute_result"
    }
   ],
   "source": [
    "max(d.values()), max(d, key=d.get)"
   ]
  },
  {
   "cell_type": "code",
   "execution_count": 16,
   "id": "2773c6b9",
   "metadata": {},
   "outputs": [
    {
     "data": {
      "text/plain": [
       "GridSearchCV(cv=5, estimator=SVC(),\n",
       "             param_grid={'C': [0.1, 1, 10, 100, 1000],\n",
       "                         'gamma': [0.01, 0.1, 1, 2, 5]})"
      ]
     },
     "execution_count": 16,
     "metadata": {},
     "output_type": "execute_result"
    }
   ],
   "source": [
    "# Or we can use an automatic selection of hyperparameters\n",
    "\n",
    "parameters = {'gamma': [0.01, 0.1, 1, 2, 5], 'C': [0.1, 1, 10, 100, 1000]}\n",
    "from sklearn.model_selection import GridSearchCV\n",
    "clf = GridSearchCV(SVC(), parameters, cv=5)\n",
    "clf.fit(X_train_std, y_train)\n"
   ]
  },
  {
   "cell_type": "code",
   "execution_count": 17,
   "id": "baa5be2f",
   "metadata": {},
   "outputs": [
    {
     "data": {
      "text/plain": [
       "{'C': 10, 'gamma': 0.01}"
      ]
     },
     "execution_count": 17,
     "metadata": {},
     "output_type": "execute_result"
    }
   ],
   "source": [
    "#Cheching the best parameters\n",
    "clf.best_params_"
   ]
  },
  {
   "cell_type": "code",
   "execution_count": 18,
   "id": "8aca2a2c",
   "metadata": {},
   "outputs": [
    {
     "data": {
      "text/plain": [
       "0.8659217877094972"
      ]
     },
     "execution_count": 18,
     "metadata": {},
     "output_type": "execute_result"
    }
   ],
   "source": [
    "np.mean(clf.predict(X_test_std) == y_test)"
   ]
  },
  {
   "cell_type": "code",
   "execution_count": 19,
   "id": "112da51a",
   "metadata": {},
   "outputs": [],
   "source": [
    "#Although we used a more complicated classifier, we achieved only a slightly higher correctness\n",
    "#than with relatively simple logistic regression. Sometimes the dependencies present\n",
    "#in the data are not so complex that it is necessary to use complex algorithms.\n"
   ]
  },
  {
   "cell_type": "code",
   "execution_count": null,
   "id": "d6c06ad7",
   "metadata": {},
   "outputs": [],
   "source": []
  }
 ],
 "metadata": {
  "kernelspec": {
   "display_name": "Python 3",
   "language": "python",
   "name": "python3"
  },
  "language_info": {
   "codemirror_mode": {
    "name": "ipython",
    "version": 3
   },
   "file_extension": ".py",
   "mimetype": "text/x-python",
   "name": "python",
   "nbconvert_exporter": "python",
   "pygments_lexer": "ipython3",
   "version": "3.8.8"
  }
 },
 "nbformat": 4,
 "nbformat_minor": 5
}
